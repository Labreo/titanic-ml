{
 "cells": [
  {
   "cell_type": "code",
   "execution_count": null,
   "id": "f42da579",
   "metadata": {},
   "outputs": [
    {
     "name": "stdout",
     "output_type": "stream",
     "text": [
      "Number of samples in testing: 222 => 25.0% of the original set\n",
      "Number of samples in training: 665 => 75.0% of the original set\n",
      "Model Accuracy for Logestic Regression: 76.58%\n",
      "Classification Report for Logistic Regression:{'0': {'precision': 0.782051282051282, 'recall': 0.8714285714285714, 'f1-score': 0.8243243243243243, 'support': 140.0}, '1': {'precision': 0.7272727272727273, 'recall': 0.5853658536585366, 'f1-score': 0.6486486486486487, 'support': 82.0}, 'accuracy': 0.7657657657657657, 'macro avg': {'precision': 0.7546620046620047, 'recall': 0.728397212543554, 'f1-score': 0.7364864864864865, 'support': 222.0}, 'weighted avg': {'precision': 0.7618177618177618, 'recall': 0.7657657657657657, 'f1-score': 0.7594351107864621, 'support': 222.0}}\n",
      "Model Accuracy for Random Forest: 81.08%\n",
      "Classification Report for Random Forest:{'0': {'precision': 0.8450704225352113, 'recall': 0.8571428571428571, 'f1-score': 0.851063829787234, 'support': 140.0}, '1': {'precision': 0.75, 'recall': 0.7317073170731707, 'f1-score': 0.7407407407407407, 'support': 82.0}, 'accuracy': 0.8108108108108109, 'macro avg': {'precision': 0.7975352112676056, 'recall': 0.7944250871080138, 'f1-score': 0.7959022852639874, 'support': 222.0}, 'weighted avg': {'precision': 0.8099543205177008, 'recall': 0.8108108108108109, 'f1-score': 0.8103138599592501, 'support': 222.0}}\n"
     ]
    }
   ],
   "source": [
    "import pandas as pd\n",
    "X=pd.read_csv('../data/titanic.csv')\n",
    "X[\"Sex\"] = X[\"Sex\"].map({\"male\": 0, \"female\": 1})\n",
    "data=X.drop(columns=[\"Survived\",\"Name\"])\n",
    "target=X[\"Survived\"]\n",
    "from sklearn.model_selection import train_test_split\n",
    "from sklearn.metrics import accuracy_score,classification_report\n",
    "#We can split our training and testing datasets.\n",
    "data_train, data_test, target_train, target_test = train_test_split(\n",
    "    data, target, random_state=42, test_size=0.25\n",
    ")\n",
    "print(\n",
    "    f\"Number of samples in testing: {data_test.shape[0]} => \"\n",
    "    f\"{data_test.shape[0] / data.shape[0] * 100:.1f}% of the\"\n",
    "    \" original set\"\n",
    ")\n",
    "print(\n",
    "    f\"Number of samples in training: {data_train.shape[0]} => \"\n",
    "    f\"{data_train.shape[0] / data.shape[0] * 100:.1f}% of the\"\n",
    "    \" original set\"\n",
    ")\n"
   ]
  },
  {
   "cell_type": "code",
   "execution_count": null,
   "id": "3409651e",
   "metadata": {},
   "outputs": [],
   "source": [
    "from sklearn.linear_model import LogisticRegression\n",
    "lrparams={\n",
    "    \"class_weight\":None, \"random_state\":8888, \"solver\":\"lbfgs\", \"max_iter\":100,\n",
    "}\n",
    "model=LogisticRegression(**lrparams)\n",
    "l_model=model.fit(data_train,target_train)\n",
    "target_predicated=l_model.predict(data_test)\n",
    "accuracy = accuracy_score(target_test, target_predicated)\n",
    "lr_report=classification_report(target_test,target_predicated,output_dict=True)"
   ]
  },
  {
   "cell_type": "code",
   "execution_count": null,
   "id": "2c46b88f",
   "metadata": {},
   "outputs": [],
   "source": [
    "from sklearn.ensemble import RandomForestClassifier\n",
    "rfparams={\n",
    "    \"n_estimators\":100,\n",
    "    \"random_state\":42,\n",
    "}\n",
    "model=RandomForestClassifier(**rfparams)\n",
    "r_model=model.fit(data_train,target_train)\n",
    "target_predicated=r_model.predict(data_test)\n",
    "accuracy = accuracy_score(target_test, target_predicated)\n",
    "rf_report=classification_report(target_test,target_predicated,output_dict=True)\n"
   ]
  },
  {
   "cell_type": "code",
   "execution_count": null,
   "id": "914af981",
   "metadata": {},
   "outputs": [],
   "source": [
    "import mlflow\n",
    "mlflow.set_experiment(\"Logistic Regression\")\n",
    "mlflow.set_tracking_uri(\"http://127.0.0.1:5000\")\n",
    "with mlflow.start_run():\n",
    "    mlflow.log_params(lrparams)\n",
    "    mlflow.log_metrics(lr_report)\n",
    "    \n"
   ]
  }
 ],
 "metadata": {
  "kernelspec": {
   "display_name": ".venv",
   "language": "python",
   "name": "python3"
  },
  "language_info": {
   "codemirror_mode": {
    "name": "ipython",
    "version": 3
   },
   "file_extension": ".py",
   "mimetype": "text/x-python",
   "name": "python",
   "nbconvert_exporter": "python",
   "pygments_lexer": "ipython3",
   "version": "3.13.5"
  }
 },
 "nbformat": 4,
 "nbformat_minor": 5
}
