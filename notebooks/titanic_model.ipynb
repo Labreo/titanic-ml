{
 "cells": [
  {
   "cell_type": "code",
   "execution_count": null,
   "id": "983dacaa",
   "metadata": {},
   "outputs": [
    {
     "name": "stdout",
     "output_type": "stream",
     "text": [
      "Number of samples in testing: 222 => 25.0% of the original set\n",
      "Number of samples in training: 665 => 75.0% of the original set\n",
      "Model Accuracy for Linear Regression: 76.58%\n",
      "Classification Report for Linear Regression:              precision    recall  f1-score   support\n",
      "\n",
      "           0       0.78      0.87      0.82       140\n",
      "           1       0.73      0.59      0.65        82\n",
      "\n",
      "    accuracy                           0.77       222\n",
      "   macro avg       0.75      0.73      0.74       222\n",
      "weighted avg       0.76      0.77      0.76       222\n",
      "\n",
      "Model Accuracy for Random Forest: 81.08%\n",
      "Classification Report for Random Forest:              precision    recall  f1-score   support\n",
      "\n",
      "           0       0.85      0.86      0.85       140\n",
      "           1       0.75      0.73      0.74        82\n",
      "\n",
      "    accuracy                           0.81       222\n",
      "   macro avg       0.80      0.79      0.80       222\n",
      "weighted avg       0.81      0.81      0.81       222\n",
      "\n"
     ]
    }
   ],
   "source": [
    "import pandas as pd\n",
    "X=pd.read_csv('../data/titanic.csv')\n",
    "X[\"Sex\"] = X[\"Sex\"].map({\"male\": 0, \"female\": 1})\n",
    "data=X.drop(columns=[\"Survived\",\"Name\"])\n",
    "target=X[\"Survived\"]\n",
    "from sklearn.model_selection import train_test_split\n",
    "from sklearn.metrics import accuracy_score,classification_report\n",
    "#We can split our training and testing datasets.\n",
    "data_train, data_test, target_train, target_test = train_test_split(\n",
    "    data, target, random_state=42, test_size=0.25\n",
    ")\n",
    "print(\n",
    "    f\"Number of samples in testing: {data_test.shape[0]} => \"\n",
    "    f\"{data_test.shape[0] / data.shape[0] * 100:.1f}% of the\"\n",
    "    \" original set\"\n",
    ")\n",
    "print(\n",
    "    f\"Number of samples in training: {data_train.shape[0]} => \"\n",
    "    f\"{data_train.shape[0] / data.shape[0] * 100:.1f}% of the\"\n",
    "    \" original set\"\n",
    ")\n",
    "from sklearn.linear_model import LogisticRegression\n",
    "model=LogisticRegression()\n",
    "l_model=model.fit(data_train,target_train)\n",
    "target_predicated=l_model.predict(data_test)\n",
    "accuracy = accuracy_score(target_test, target_predicated)\n",
    "print(f\"Model Accuracy for Logestic Regression: {accuracy * 100:.2f}%\")\n",
    "print(f\"Classification Report for Logistic Regression:{classification_report(target_test,target_predicated)}\")\n",
    "from sklearn.ensemble import RandomForestClassifier\n",
    "model=RandomForestClassifier(n_estimators=100,random_state=42)\n",
    "r_model=model.fit(data_train,target_train)\n",
    "target_predicated=r_model.predict(data_test)\n",
    "accuracy = accuracy_score(target_test, target_predicated)\n",
    "print(f\"Model Accuracy for Random Forest: {accuracy * 100:.2f}%\")\n",
    "print(f\"Classification Report for Random Forest:{classification_report(target_test,target_predicated)}\")"
   ]
  }
 ],
 "metadata": {
  "kernelspec": {
   "display_name": "myenv",
   "language": "python",
   "name": "python3"
  },
  "language_info": {
   "codemirror_mode": {
    "name": "ipython",
    "version": 3
   },
   "file_extension": ".py",
   "mimetype": "text/x-python",
   "name": "python",
   "nbconvert_exporter": "python",
   "pygments_lexer": "ipython3",
   "version": "3.11.13"
  }
 },
 "nbformat": 4,
 "nbformat_minor": 5
}
