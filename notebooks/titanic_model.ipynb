{
 "cells": [
  {
   "cell_type": "code",
   "execution_count": 7,
   "id": "983dacaa",
   "metadata": {},
   "outputs": [
    {
     "name": "stdout",
     "output_type": "stream",
     "text": [
      "Number of samples in testing: 222 => 25.0% of the original set\n",
      "Number of samples in training: 665 => 75.0% of the original set\n",
      "Model Accuracy for Logestic Regression: 76.58%\n",
      "Classification Report for Logistic Regression:              precision    recall  f1-score   support\n",
      "\n",
      "           0       0.78      0.87      0.82       140\n",
      "           1       0.73      0.59      0.65        82\n",
      "\n",
      "    accuracy                           0.77       222\n",
      "   macro avg       0.75      0.73      0.74       222\n",
      "weighted avg       0.76      0.77      0.76       222\n",
      "\n",
      "Model Accuracy for Random Forest: 81.08%\n",
      "Classification Report for Random Forest:              precision    recall  f1-score   support\n",
      "\n",
      "           0       0.85      0.86      0.85       140\n",
      "           1       0.75      0.73      0.74        82\n",
      "\n",
      "    accuracy                           0.81       222\n",
      "   macro avg       0.80      0.79      0.80       222\n",
      "weighted avg       0.81      0.81      0.81       222\n",
      "\n"
     ]
    }
   ],
   "source": [
    "import pandas as pd\n",
    "X=pd.read_csv('../data/titanic.csv')\n",
    "X[\"Sex\"] = X[\"Sex\"].map({\"male\": 0, \"female\": 1})\n",
    "data=X.drop(columns=[\"Survived\",\"Name\"])\n",
    "target=X[\"Survived\"]\n",
    "from sklearn.model_selection import train_test_split\n",
    "from sklearn.metrics import accuracy_score,classification_report\n",
    "#We can split our training and testing datasets.\n",
    "data_train, data_test, target_train, target_test = train_test_split(\n",
    "    data, target, random_state=42, test_size=0.25\n",
    ")\n",
    "print(\n",
    "    f\"Number of samples in testing: {data_test.shape[0]} => \"\n",
    "    f\"{data_test.shape[0] / data.shape[0] * 100:.1f}% of the\"\n",
    "    \" original set\"\n",
    ")\n",
    "print(\n",
    "    f\"Number of samples in training: {data_train.shape[0]} => \"\n",
    "    f\"{data_train.shape[0] / data.shape[0] * 100:.1f}% of the\"\n",
    "    \" original set\"\n",
    ")\n",
    "from sklearn.linear_model import LogisticRegression\n",
    "model=LogisticRegression()\n",
    "l_model=model.fit(data_train,target_train)\n",
    "target_predicated=l_model.predict(data_test)\n",
    "accuracy = accuracy_score(target_test, target_predicated)\n",
    "print(f\"Model Accuracy for Logestic Regression: {accuracy * 100:.2f}%\")\n",
    "print(f\"Classification Report for Logistic Regression:{classification_report(target_test,target_predicated)}\")\n",
    "from sklearn.ensemble import RandomForestClassifier,GradientBoostingClassifier\n",
    "model=RandomForestClassifier(n_estimators=100,random_state=42)\n",
    "r_model=model.fit(data_train,target_train)\n",
    "target_predicated=r_model.predict(data_test)\n",
    "accuracy = accuracy_score(target_test, target_predicated)\n",
    "print(f\"Model Accuracy for Random Forest: {accuracy * 100:.2f}%\")\n",
    "print(f\"Classification Report for Random Forest:{classification_report(target_test,target_predicated)}\")\n",
    "import pickle \n",
    "pickle.dump(r_model,open('model.pkl','wb'))"
   ]
  },
  {
   "cell_type": "code",
   "execution_count": null,
   "id": "6d5eeabd",
   "metadata": {},
   "outputs": [],
   "source": [
    "models = [\n",
    "    (\n",
    "        \"Logistic Regression\", \n",
    "        {\n",
    "    \"class_weight\":None, \"random_state\":8888, \"solver\":\"lbfgs\", \"max_iter\":100,},\n",
    "        LogisticRegression(), \n",
    "    ),\n",
    "    (\n",
    "        \"Random Forest\", \n",
    "        { \"n_estimators\":100,\n",
    "    \"random_state\":42,},\n",
    "        RandomForestClassifier(), \n",
    "    ),\n",
    "    (\n",
    "        \"Gradient Boosting Classifier\", \n",
    "        {\n",
    "   \"n_estimators\":100, \"learning_rate\":1.0,\"max_depth\":1, \"random_state\":0\n",
    "},\n",
    "        GradientBoostingClassifier(), \n",
    "    ),\n",
    "    ]\n",
    "\n"
   ]
  },
  {
   "cell_type": "code",
   "execution_count": 12,
   "id": "7ca407e8",
   "metadata": {},
   "outputs": [],
   "source": [
    "from sklearn.linear_model import LogisticRegression\n",
    "reports=[]\n",
    "lrparams={\n",
    "    \"class_weight\":None, \"random_state\":8888, \"solver\":\"lbfgs\", \"max_iter\":100,\n",
    "}\n",
    "model=LogisticRegression(**lrparams)\n",
    "l_model=model.fit(data_train,target_train)\n",
    "target_predicated=l_model.predict(data_test)\n",
    "accuracy = accuracy_score(target_test, target_predicated)\n",
    "reports.append(classification_report(target_test,target_predicated,output_dict=True))\n",
    "\n",
    "from sklearn.ensemble import RandomForestClassifier\n",
    "rfparams={\n",
    "    \"n_estimators\":100,\n",
    "    \"random_state\":42,\n",
    "}\n",
    "model=RandomForestClassifier(**rfparams)\n",
    "r_model=model.fit(data_train,target_train)\n",
    "target_predicated=r_model.predict(data_test)\n",
    "accuracy = accuracy_score(target_test, target_predicated)\n",
    "reports.append(classification_report(target_test,target_predicated,output_dict=True))\n",
    "gbparams={\n",
    "   \"n_estimators\":100, \"learning_rate\":1.0,\"max_depth\":1, \"random_state\":0\n",
    "}\n",
    "model=GradientBoostingClassifier(**gbparams)\n",
    "g_model=model.fit(data_train,target_train)\n",
    "target_predicated=g_model.predict(data_test)\n",
    "accuracy = accuracy_score(target_test, target_predicated)\n",
    "reports.append(classification_report(target_test,target_predicated,output_dict=True))\n"
   ]
  },
  {
   "cell_type": "code",
   "execution_count": 15,
   "id": "8680516e",
   "metadata": {},
   "outputs": [
    {
     "name": "stderr",
     "output_type": "stream",
     "text": [
      "2025/07/10 15:24:48 INFO mlflow.tracking.fluent: Experiment with name 'Accuracy Model v3' does not exist. Creating a new experiment.\n",
      "2025/07/10 15:24:48 WARNING mlflow.models.model: `artifact_path` is deprecated. Please use `name` instead.\n",
      "\u001b[31m2025/07/10 15:24:52 WARNING mlflow.models.model: Model logged without a signature and input example. Please set `input_example` parameter when logging the model to auto infer the model signature.\u001b[0m\n",
      "Successfully registered model 'Logistic Regression'.\n",
      "2025/07/10 15:24:53 INFO mlflow.store.model_registry.abstract_store: Waiting up to 300 seconds for model version to finish creation. Model name: Logistic Regression, version 1\n",
      "Created version '1' of model 'Logistic Regression'.\n",
      "2025/07/10 15:24:53 WARNING mlflow.models.model: `artifact_path` is deprecated. Please use `name` instead.\n"
     ]
    },
    {
     "name": "stdout",
     "output_type": "stream",
     "text": [
      "🏃 View run Logistic Regression at: http://localhost:5000/#/experiments/805679247893470161/runs/d3620872486a4c0fa503951a163f2cce\n",
      "🧪 View experiment at: http://localhost:5000/#/experiments/805679247893470161\n"
     ]
    },
    {
     "name": "stderr",
     "output_type": "stream",
     "text": [
      "\u001b[31m2025/07/10 15:24:55 WARNING mlflow.models.model: Model logged without a signature and input example. Please set `input_example` parameter when logging the model to auto infer the model signature.\u001b[0m\n",
      "Successfully registered model 'Random Forest'.\n",
      "2025/07/10 15:24:55 INFO mlflow.store.model_registry.abstract_store: Waiting up to 300 seconds for model version to finish creation. Model name: Random Forest, version 1\n",
      "Created version '1' of model 'Random Forest'.\n",
      "2025/07/10 15:24:55 WARNING mlflow.models.model: `artifact_path` is deprecated. Please use `name` instead.\n"
     ]
    },
    {
     "name": "stdout",
     "output_type": "stream",
     "text": [
      "🏃 View run Random Forest at: http://localhost:5000/#/experiments/805679247893470161/runs/bc7db7546aff47d4a58315e71d9f6715\n",
      "🧪 View experiment at: http://localhost:5000/#/experiments/805679247893470161\n"
     ]
    },
    {
     "name": "stderr",
     "output_type": "stream",
     "text": [
      "\u001b[31m2025/07/10 15:24:58 WARNING mlflow.models.model: Model logged without a signature and input example. Please set `input_example` parameter when logging the model to auto infer the model signature.\u001b[0m\n",
      "Successfully registered model 'Gradient Boosting Classifier'.\n",
      "2025/07/10 15:24:58 INFO mlflow.store.model_registry.abstract_store: Waiting up to 300 seconds for model version to finish creation. Model name: Gradient Boosting Classifier, version 1\n"
     ]
    },
    {
     "name": "stdout",
     "output_type": "stream",
     "text": [
      "🏃 View run Gradient Boosting Classifier at: http://localhost:5000/#/experiments/805679247893470161/runs/a7eb30d9ddc4430d898f3adc2994e85b\n",
      "🧪 View experiment at: http://localhost:5000/#/experiments/805679247893470161\n"
     ]
    },
    {
     "name": "stderr",
     "output_type": "stream",
     "text": [
      "Created version '1' of model 'Gradient Boosting Classifier'.\n"
     ]
    }
   ],
   "source": [
    "import mlflow\n",
    "\n",
    "mlflow.set_tracking_uri(\"http://localhost:5000\")\n",
    "mlflow.set_experiment(\"Accuracy Model v3\")\n",
    "\n",
    "for i, element in enumerate(models):\n",
    "    model_name = element[0]\n",
    "    params = element[1]\n",
    "    model = element[2]\n",
    "    report = reports[i]\n",
    "    \n",
    "    with mlflow.start_run(run_name=model_name):        \n",
    "        mlflow.log_params(params)\n",
    "        mlflow.log_metrics({\n",
    "            'accuracy': report['accuracy'],\n",
    "            'recall_class_1': report['1']['recall'],\n",
    "            'recall_class_0': report['0']['recall'],\n",
    "            'f1_score_macro': report['macro avg']['f1-score']\n",
    "        })  \n",
    "\n",
    "        mlflow.sklearn.log_model(model, \"model\", registered_model_name=model_name)\n",
    "  \n",
    "\n",
    "    "
   ]
  }
 ],
 "metadata": {
  "kernelspec": {
   "display_name": ".venv",
   "language": "python",
   "name": "python3"
  },
  "language_info": {
   "codemirror_mode": {
    "name": "ipython",
    "version": 3
   },
   "file_extension": ".py",
   "mimetype": "text/x-python",
   "name": "python",
   "nbconvert_exporter": "python",
   "pygments_lexer": "ipython3",
   "version": "3.13.5"
  }
 },
 "nbformat": 4,
 "nbformat_minor": 5
}
